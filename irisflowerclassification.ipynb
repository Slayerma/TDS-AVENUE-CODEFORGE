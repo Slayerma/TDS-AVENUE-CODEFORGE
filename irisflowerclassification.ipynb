{
 "cells": [
  {
   "cell_type": "code",
   "execution_count": null,
   "id": "initial_id",
   "metadata": {
    "collapsed": true
   },
   "outputs": [],
   "source": []
  },
  {
   "cell_type": "code",
   "execution_count": null,
   "id": "30d58d29bfd6bc3b",
   "metadata": {
    "collapsed": false
   },
   "outputs": [],
   "source": [
    "import pandas as pd\n",
    "import numpy as np\n",
    "import seaborn as sns\n",
    "import matplotlib.pyplot as plt\n",
    "from sklearn.preprocessing import LabelEncoder \n",
    "from sklearn.model_selection import train_test_split\n",
    "from sklearn.linear_model import LogisticRegression\n",
    "from sklearn.neighbors import KNeighborsClassifier\n",
    "from sklearn.tree import DecisionTreeClassifier"
   ]
  },
  {
   "cell_type": "code",
   "execution_count": null,
   "id": "4fe8b1465e824db1",
   "metadata": {
    "collapsed": false
   },
   "outputs": [],
   "source": [
    "iris_flower_file=pd.read_csv(\"TDS-AVENUE-CODEFORGE/IRIS.csv\")\n",
    "iris_flower_file.head(16)"
   ]
  },
  {
   "cell_type": "code",
   "execution_count": null,
   "id": "6d68d95ac0082696",
   "metadata": {
    "collapsed": false
   },
   "outputs": [],
   "source": [
    "iris_flower_file.shape"
   ]
  },
  {
   "cell_type": "code",
   "execution_count": null,
   "id": "b04277f1a4057206",
   "metadata": {
    "collapsed": false
   },
   "outputs": [],
   "source": [
    "iris_flower_file.info()"
   ]
  },
  {
   "cell_type": "code",
   "execution_count": null,
   "id": "433f2700c6a58c46",
   "metadata": {
    "collapsed": false
   },
   "outputs": [],
   "source": [
    "iris_flower_file.describe()"
   ]
  },
  {
   "cell_type": "code",
   "execution_count": null,
   "id": "36f02aa3857dacd",
   "metadata": {
    "collapsed": false
   },
   "outputs": [],
   "source": [
    "iris_flower_file.isnull().sum()"
   ]
  },
  {
   "cell_type": "code",
   "execution_count": null,
   "id": "58569a5a62ad9716",
   "metadata": {
    "collapsed": false
   },
   "outputs": [],
   "source": [
    "iris_flower_file.describe()"
   ]
  },
  {
   "cell_type": "code",
   "execution_count": null,
   "id": "f768635fa6f3e426",
   "metadata": {
    "collapsed": false
   },
   "outputs": [],
   "source": [
    "iris_flower_file['sepal_length'].hist()"
   ]
  },
  {
   "cell_type": "code",
   "execution_count": null,
   "id": "2c1979142875ce52",
   "metadata": {
    "collapsed": false
   },
   "outputs": [],
   "source": [
    "iris_flower_file['sepal_width'].hist()"
   ]
  },
  {
   "cell_type": "code",
   "execution_count": null,
   "id": "a06f22b0c49cae69",
   "metadata": {
    "collapsed": false
   },
   "outputs": [],
   "source": [
    "iris_flower_file['petal_length'].hist()"
   ]
  },
  {
   "cell_type": "code",
   "execution_count": null,
   "id": "d27f3295447355f0",
   "metadata": {
    "collapsed": false
   },
   "outputs": [],
   "source": [
    "iris_flower_file['petal_width'].hist()"
   ]
  },
  {
   "cell_type": "code",
   "execution_count": null,
   "id": "289d4a62b0d2624a",
   "metadata": {
    "collapsed": false
   },
   "outputs": [],
   "source": [
    "colors=['red','Black','teal']"
   ]
  },
  {
   "cell_type": "code",
   "execution_count": null,
   "id": "e5e057fac1c81c35",
   "metadata": {
    "collapsed": false
   },
   "outputs": [],
   "source": [
    "species=['Iris-setosa', 'Iris-versicolor', 'Iris-virginica']"
   ]
  },
  {
   "cell_type": "code",
   "execution_count": null,
   "id": "6783f2f30b4419cd",
   "metadata": {
    "collapsed": false
   },
   "outputs": [],
   "source": [
    "for i in range(3):\n",
    "    x=iris_flower_file[iris_flower_file['species']==species[i]]\n",
    "    plt.scatter(x['sepal_length'],x['sepal_width'],c=colors[i],label=species[i])\n",
    "plt.xlabel(\"Sepal Length\")\n",
    "plt.ylabel(\"Sepal Width\")\n",
    "plt.legend()"
   ]
  },
  {
   "cell_type": "code",
   "execution_count": null,
   "id": "e9bc9cfdc63a3ee6",
   "metadata": {
    "collapsed": false
   },
   "outputs": [],
   "source": [
    "for i in range(3):\n",
    "    x=iris_flower_file[iris_flower_file['species']==species[i]]\n",
    "    plt.scatter(x['petal_length'],x['petal_width'],c=colors[i],label=species[i])\n",
    "plt.xlabel(\"Petal Length\")\n",
    "plt.ylabel(\"Petal Width\")\n",
    "plt.legend()"
   ]
  },
  {
   "cell_type": "code",
   "execution_count": null,
   "id": "500fd78aa9456b1d",
   "metadata": {
    "collapsed": false
   },
   "outputs": [],
   "source": [
    "for i in range(3):\n",
    "    x=iris_flower_file[iris_flower_file['species']==species[i]]\n",
    "    plt.scatter(x['sepal_length'],x['petal_length'],c=colors[i],label=species[i])\n",
    "plt.xlabel(\"Sepal Length\")\n",
    "plt.ylabel(\"Petal Length\")\n",
    "plt.legend()"
   ]
  },
  {
   "cell_type": "code",
   "execution_count": null,
   "id": "87e1bb7b834cd50c",
   "metadata": {
    "collapsed": false
   },
   "outputs": [],
   "source": [
    "for i in range(3):\n",
    "    x=iris_flower_file[iris_flower_file['species']==species[i]]\n",
    "    plt.scatter(x['sepal_width'],x['petal_width'],c=colors[i],label=species[i])\n",
    "plt.xlabel(\"Sepal Width\")\n",
    "plt.ylabel(\"Petal Width\")\n",
    "plt.legend()"
   ]
  },
  {
   "cell_type": "code",
   "execution_count": null,
   "id": "895879f166f43df0",
   "metadata": {
    "collapsed": false
   },
   "outputs": [],
   "source": [
    "numeric_columns=iris_flower_file.drop(columns='species')\n",
    "corr=numeric_columns.corr()\n",
    "fig,axis=plt.subplots(figsize=(5,5))\n",
    "sns.heatmap(corr,annot=True,ax=axis,cmap='coolwarm')"
   ]
  },
  {
   "cell_type": "code",
   "execution_count": null,
   "id": "9c61f6c1c9df9720",
   "metadata": {
    "collapsed": false
   },
   "outputs": [],
   "source": [
    "le=LabelEncoder()\n",
    "iris_flower_file['species']=le.fit_transform(iris_flower_file['species'])\n",
    "iris_flower_file.head(16)\n"
   ]
  },
  {
   "cell_type": "code",
   "execution_count": null,
   "id": "c6a6818c4cb6b213",
   "metadata": {
    "collapsed": false
   },
   "outputs": [],
   "source": [
    "x=iris_flower_file.drop(columns='species')\n",
    "y=iris_flower_file['species']\n",
    "x_train,x_test,y_train,y_test=train_test_split(x,y,test_size=0.3)\n",
    "LR=LogisticRegression()\n",
    "LR.fit(x_train,y_train)"
   ]
  },
  {
   "cell_type": "code",
   "execution_count": null,
   "id": "ac5e951a64a547e0",
   "metadata": {
    "collapsed": false
   },
   "outputs": [],
   "source": [
    "KNN=KNeighborsClassifier()\n",
    "KNN.fit(x_train,y_train)"
   ]
  },
  {
   "cell_type": "code",
   "execution_count": null,
   "id": "2d5b701f75566b37",
   "metadata": {
    "collapsed": false
   },
   "outputs": [],
   "source": [
    "DT=DecisionTreeClassifier()\n",
    "DT.fit(x_train,y_train)"
   ]
  },
  {
   "cell_type": "code",
   "execution_count": null,
   "id": "db9285865cc47f70",
   "metadata": {
    "collapsed": false
   },
   "outputs": [],
   "source": [
    "LR_accuracy=LR.score(x_test,y_test)*100\n",
    "KNN_accuracy=KNN.score(x_test,y_test)*100\n",
    "DT_accuracy=DT.score(x_test,y_test)*100"
   ]
  },
  {
   "cell_type": "code",
   "execution_count": null,
   "id": "a8f57e3533953838",
   "metadata": {
    "collapsed": false
   },
   "outputs": [],
   "source": [
    "print(f\"Accuracy by using Logistic Regression: {LR_accuracy}%\")"
   ]
  },
  {
   "cell_type": "code",
   "execution_count": null,
   "id": "c6fdd1327f26f97d",
   "metadata": {
    "collapsed": false
   },
   "outputs": [],
   "source": [
    "print(f\"Accuracy by using K Nearest Neighbors Algorithm: {KNN_accuracy}%\")"
   ]
  },
  {
   "cell_type": "code",
   "execution_count": null,
   "id": "5690fc1167fa2018",
   "metadata": {
    "collapsed": false
   },
   "outputs": [],
   "source": [
    "print(f\"Accuracy by using Decision Tree Classifier: {DT_accuracy}%\")"
   ]
  },
  {
   "cell_type": "code",
   "execution_count": null,
   "id": "c469bc1d8d237d58",
   "metadata": {
    "collapsed": false
   },
   "outputs": [],
   "source": []
  }
 ],
 "metadata": {
  "kernelspec": {
   "display_name": "Python 3",
   "language": "python",
   "name": "python3"
  },
  "language_info": {
   "codemirror_mode": {
    "name": "ipython",
    "version": 2
   },
   "file_extension": ".py",
   "mimetype": "text/x-python",
   "name": "python",
   "nbconvert_exporter": "python",
   "pygments_lexer": "ipython2",
   "version": "2.7.6"
  }
 },
 "nbformat": 4,
 "nbformat_minor": 5
}
